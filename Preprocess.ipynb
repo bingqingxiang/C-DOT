{
 "cells": [
  {
   "cell_type": "code",
   "execution_count": 1,
   "metadata": {},
   "outputs": [],
   "source": [
    "import numpy as np\n",
    "import pickle\n",
    "import matplotlib.pyplot as ply\n",
    "%matplotlib inline"
   ]
  },
  {
   "cell_type": "code",
   "execution_count": 2,
   "metadata": {},
   "outputs": [],
   "source": [
    "from DistributedOI.GraphTopology import Graph\n",
    "import DistributedOI.data_prep as dp"
   ]
  },
  {
   "cell_type": "code",
   "execution_count": 4,
   "metadata": {},
   "outputs": [],
   "source": [
    "# Define the type of the Graph\n",
    "graphType='erdos_renyi'\n",
    "p=0.03 # Network connectivity 0<p<=1\n",
    "#graphType='ring'\n",
    "#graphType='star'"
   ]
  },
  {
   "cell_type": "code",
   "execution_count": 5,
   "metadata": {},
   "outputs": [],
   "source": [
    "number_of_nodes=20 # Number of node in a network\n",
    "r=55   # Target dimension of the low rank subspace"
   ]
  },
  {
   "cell_type": "markdown",
   "metadata": {},
   "source": [
    "# SVD_ImageNet32_data(200,32*32*3)\n",
    "datasets=\"imagenet32\"\n",
    "#dataDimension=32*32*3\n",
    "dataDimension=32*32"
   ]
  },
  {
   "cell_type": "markdown",
   "metadata": {},
   "source": [
    "# Design Data \n",
    "eigengap=0.7\n",
    "datasets=\"synthetic_n{}r{}g{}\".format(number_of_nodes,r,int(gap*10))\n",
    "data,TotalSamples,dataDimension=dp.create_centralized_data(dataDimension=20,TotalSamples=500*number_of_nodes,top_rank=r,eigen_gap=gap)\n",
    "print('data:',data.shape)"
   ]
  },
  {
   "cell_type": "markdown",
   "metadata": {},
   "source": [
    "# MNIST r = 59\n",
    "datasets=\"mnist{}\".format(number_of_nodes)\n",
    "data,TotalSamples,dataDimension = dp.load_MNIST_data()\n",
    "print('Mnist data:',data.shape)"
   ]
  },
  {
   "cell_type": "markdown",
   "metadata": {},
   "source": [
    "# CIFAR10 r = 42\n",
    "datasets=\"cifar{}\".format(number_of_nodes)\n",
    "data,TotalSamples,dataDimension = dp.load_CIFAR10_data()\n",
    "print('cifar10 data:',data.shape)"
   ]
  },
  {
   "cell_type": "markdown",
   "metadata": {},
   "source": [
    "# lfw data 55\n",
    "datasets=\"lfw{}\".format(number_of_nodes)\n",
    "data,TotalSamples,dataDimension = dp.load_lfw_people()\n",
    "print('lfw people data:',data.shape)"
   ]
  },
  {
   "cell_type": "code",
   "execution_count": null,
   "metadata": {},
   "outputs": [],
   "source": [
    "# Distributed data to nodes\n",
    "dp.distributed_data(datasets,data,number_of_nodes,TotalSamples)"
   ]
  },
  {
   "cell_type": "code",
   "execution_count": null,
   "metadata": {},
   "outputs": [],
   "source": [
    "# Load local test\n",
    "local_data,NumSamples,dataDimension=dp.load_local_data(datasets,0)\n",
    "print(dataDimension,NumSamples)"
   ]
  },
  {
   "cell_type": "code",
   "execution_count": null,
   "metadata": {},
   "outputs": [],
   "source": [
    "# Find top r with svd\n",
    "covariance_matrix = (1/(TotalSamples))*np.dot(data,data.transpose())\n",
    "top_r_eigenvec=dp.SVD(datasets=datasets,covariance_matrix=covariance_matrix, dimension=dataDimension, r=r)\n",
    "print('Sample covariance matrix has shape :',covariance_matrix.shape)\n",
    "print('Top r low rank subspace has shape :',top_r_eigenvec.shape)"
   ]
  },
  {
   "cell_type": "code",
   "execution_count": null,
   "metadata": {},
   "outputs": [],
   "source": [
    "g=Graph(graphType=graphType,number_of_nodes=number_of_nodes,probability=p)\n",
    "g.create_graph()\n",
    "W=g.weight_matrix() # Grab the weight matrix\n",
    "with open(\"Data/Test/{}/weight_{}.pickle\".format(datasets,graphType), 'wb') as handle:\n",
    "    pickle.dump(W, handle)\n",
    "                \n",
    "#distributed_covariance= dp.distributed_covariance(data,number_of_nodes,TotalSamples)"
   ]
  },
  {
   "cell_type": "code",
   "execution_count": null,
   "metadata": {},
   "outputs": [],
   "source": [
    "# Initialize the initial value of the estimation\n",
    "X_init = np.random.rand(dataDimension,r)\n",
    "X_init, R = np.linalg.qr(X_init)\n",
    "\n",
    "with open(\"Data/Test/{}/X_init.pickle\".format(datasets), 'wb') as handle:\n",
    "    pickle.dump(X_init, handle)"
   ]
  }
 ],
 "metadata": {
  "kernelspec": {
   "display_name": "Python 3",
   "language": "python",
   "name": "python3"
  },
  "language_info": {
   "codemirror_mode": {
    "name": "ipython",
    "version": 3
   },
   "file_extension": ".py",
   "mimetype": "text/x-python",
   "name": "python",
   "nbconvert_exporter": "python",
   "pygments_lexer": "ipython3",
   "version": "3.7.3"
  }
 },
 "nbformat": 4,
 "nbformat_minor": 2
}
